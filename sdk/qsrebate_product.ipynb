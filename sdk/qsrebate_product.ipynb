{
 "cells": [
  {
   "cell_type": "code",
   "execution_count": 163,
   "metadata": {},
   "outputs": [],
   "source": [
    "import pandas as pd\n",
    "from pandas import DataFrame\n",
    "import httplib2\n",
    "import urllib\n",
    "import json"
   ]
  },
  {
   "cell_type": "code",
   "execution_count": 164,
   "metadata": {},
   "outputs": [],
   "source": [
    "data_fname = \"C:\\qsrebate\\coupon_products_1.xlsx\"\n",
    "# df_data = pd.read_csv(data_fname,header=0,encoding=\"UTF-8\")\n",
    "df_data = pd.read_excel(data_fname,skiprows=[0])\n"
   ]
  },
  {
   "cell_type": "code",
   "execution_count": 165,
   "metadata": {
    "collapsed": true
   },
   "outputs": [],
   "source": [
    "def import_product(productId,originalPrice,couponPrice,couponLink,startDate,endDate):\n",
    "    url = 'http://m.qingsongfan.com/admin/importCouponProduct.json?'\n",
    "    data1=[{\"productId\":productId,\"originalPrice\":originalPrice,\"couponPrice\":couponPrice,\"couponLink\":couponLink,\"startDate\":startDate,\"endDate\":endDate}]\n",
    "    encode_json = json.dumps(data1)\n",
    "    params = urllib.parse.urlencode({\"paramJson\":data1}) \n",
    "    url = url+params\n",
    "    url = url.replace(\"%27\", \"%22\")\n",
    "\n",
    "    #获取HTTP对象  \n",
    "    h = httplib2.Http()  \n",
    "    #发出同步请求，并获取内容  \n",
    "    resp, content = h.request(url)\n",
    "    print(content)"
   ]
  },
  {
   "cell_type": "code",
   "execution_count": 177,
   "metadata": {},
   "outputs": [
    {
     "name": "stdout",
     "output_type": "stream",
     "text": [
      "2017-09-09 00:00:00\n",
      "b'{\"success\":true}'\n",
      "2017-09-09 00:00:00\n",
      "b'{\"success\":true}'\n",
      "2017-08-17 00:00:00\n",
      "b'{\"success\":true}'\n",
      "2017-09-21 00:00:00\n",
      "b'{\"success\":true}'\n",
      "2017-09-22 00:00:00\n",
      "b'{\"success\":true}'\n",
      "2017-07-24 00:00:00\n",
      "b'{\"success\":true}'\n",
      "2017-07-17 00:00:00\n",
      "b'{\"success\":true}'\n",
      "2017-08-24 16:55:00\n",
      "b'{\"success\":true}'\n",
      "2017-09-30 00:00:00\n",
      "b'{\"success\":true}'\n",
      "2017-10-09 00:00:00\n",
      "b'{\"success\":true}'\n",
      "2017-09-22 00:00:00\n",
      "b'{\"success\":true}'\n",
      "2017-09-22 00:00:00\n",
      "b'{\"success\":true}'\n",
      "2017-08-17 00:00:00\n",
      "b'{\"success\":true}'\n",
      "2017-09-07 00:00:00\n",
      "b'{\"success\":true}'\n",
      "2017-07-24 00:00:00\n",
      "b'{\"success\":true}'\n",
      "2017-07-24 00:00:00\n",
      "b'{\"success\":true}'\n",
      "2017-09-21 00:00:00\n",
      "b'{\"success\":true}'\n",
      "2017-09-21 00:00:00\n",
      "b'{\"success\":true}'\n",
      "2017-08-03 00:00:00\n",
      "b'{\"success\":true}'\n",
      "2017-09-21 00:00:00\n",
      "b'{\"success\":true}'\n",
      "2017-07-24 00:00:00\n",
      "b'{\"success\":true}'\n",
      "2017-09-07 14:06:00\n",
      "b'{\"success\":true}'\n",
      "2017-09-09 00:00:00\n",
      "b'{\"success\":true}'\n"
     ]
    },
    {
     "ename": "AttributeError",
     "evalue": "'str' object has no attribute 'strftime'",
     "output_type": "error",
     "traceback": [
      "\u001b[1;31m---------------------------------------------------------------------------\u001b[0m",
      "\u001b[1;31mAttributeError\u001b[0m                            Traceback (most recent call last)",
      "\u001b[1;32m<ipython-input-177-f9d7ed0d432d>\u001b[0m in \u001b[0;36m<module>\u001b[1;34m()\u001b[0m\n\u001b[0;32m      8\u001b[0m     \u001b[0mwlCommission\u001b[0m\u001b[1;33m=\u001b[0m\u001b[0mrow\u001b[0m\u001b[1;33m[\u001b[0m\u001b[1;36m6\u001b[0m\u001b[1;33m]\u001b[0m\u001b[1;33m\u001b[0m\u001b[0m\n\u001b[0;32m      9\u001b[0m     \u001b[0mcouponLink\u001b[0m\u001b[1;33m=\u001b[0m\u001b[0mrow\u001b[0m\u001b[1;33m[\u001b[0m\u001b[1;36m7\u001b[0m\u001b[1;33m]\u001b[0m\u001b[1;33m\u001b[0m\u001b[0m\n\u001b[1;32m---> 10\u001b[1;33m     \u001b[0mstartDate\u001b[0m\u001b[1;33m=\u001b[0m\u001b[0mrow\u001b[0m\u001b[1;33m[\u001b[0m\u001b[1;36m8\u001b[0m\u001b[1;33m]\u001b[0m\u001b[1;33m.\u001b[0m\u001b[0mstrftime\u001b[0m\u001b[1;33m(\u001b[0m\u001b[1;34m\"%Y-%m-%d %H:%M:%S\"\u001b[0m\u001b[1;33m)\u001b[0m\u001b[1;33m\u001b[0m\u001b[0m\n\u001b[0m\u001b[0;32m     11\u001b[0m     \u001b[0mendDate\u001b[0m\u001b[1;33m=\u001b[0m\u001b[0mrow\u001b[0m\u001b[1;33m[\u001b[0m\u001b[1;36m9\u001b[0m\u001b[1;33m]\u001b[0m\u001b[1;33m.\u001b[0m\u001b[0mstrftime\u001b[0m\u001b[1;33m(\u001b[0m\u001b[1;34m\"%Y-%m-%d %H:%M:%S\"\u001b[0m\u001b[1;33m)\u001b[0m\u001b[1;33m\u001b[0m\u001b[0m\n\u001b[0;32m     12\u001b[0m     \u001b[0mprint\u001b[0m\u001b[1;33m(\u001b[0m\u001b[0mstartDate\u001b[0m\u001b[1;33m)\u001b[0m\u001b[1;33m\u001b[0m\u001b[0m\n",
      "\u001b[1;31mAttributeError\u001b[0m: 'str' object has no attribute 'strftime'"
     ]
    }
   ],
   "source": [
    "for index, row in df_data.iterrows():\n",
    "    productId = row[0]\n",
    "    name=row[1]\n",
    "    skuLink=row[2]\n",
    "    originalPrice=row[3]\n",
    "    couponPrice=row[4]\n",
    "    pcCommission=row[5]\n",
    "    wlCommission=row[6]\n",
    "    couponLink=row[7]\n",
    "    startDate=row[8].strftime(\"%Y-%m-%d %H:%M:%S\")\n",
    "    endDate=row[9].strftime(\"%Y-%m-%d %H:%M:%S\")\n",
    "    print(startDate)\n",
    "    import_product(productId,originalPrice,couponPrice,couponLink,startDate,endDate)\n"
   ]
  },
  {
   "cell_type": "code",
   "execution_count": null,
   "metadata": {},
   "outputs": [],
   "source": []
  }
 ],
 "metadata": {
  "kernelspec": {
   "display_name": "Python 3",
   "language": "python",
   "name": "python3"
  },
  "language_info": {
   "codemirror_mode": {
    "name": "ipython",
    "version": 3
   },
   "file_extension": ".py",
   "mimetype": "text/x-python",
   "name": "python",
   "nbconvert_exporter": "python",
   "pygments_lexer": "ipython3",
   "version": "3.6.2"
  }
 },
 "nbformat": 4,
 "nbformat_minor": 2
}
